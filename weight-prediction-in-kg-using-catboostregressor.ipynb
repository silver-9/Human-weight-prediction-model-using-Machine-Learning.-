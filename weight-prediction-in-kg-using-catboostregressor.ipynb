{
 "cells": [
  {
   "cell_type": "code",
   "execution_count": 1,
   "metadata": {
    "_cell_guid": "b1076dfc-b9ad-4769-8c92-a6c4dae69d19",
    "_uuid": "8f2839f25d086af736a60e9eeb907d3b93b6e0e5",
    "execution": {
     "iopub.execute_input": "2020-09-21T11:50:13.713159Z",
     "iopub.status.busy": "2020-09-21T11:50:13.712273Z",
     "iopub.status.idle": "2020-09-21T11:50:13.720791Z",
     "shell.execute_reply": "2020-09-21T11:50:13.719862Z"
    },
    "papermill": {
     "duration": 0.030721,
     "end_time": "2020-09-21T11:50:13.720942",
     "exception": false,
     "start_time": "2020-09-21T11:50:13.690221",
     "status": "completed"
    },
    "tags": []
   },
   "outputs": [
    {
     "name": "stdout",
     "output_type": "stream",
     "text": [
      "/kaggle/input/weight-height/weight-height.csv\n"
     ]
    }
   ],
   "source": [
    "# This Python 3 environment comes with many helpful analytics libraries installed\n",
    "# It is defined by the kaggle/python Docker image: https://github.com/kaggle/docker-python\n",
    "# For example, here's several helpful packages to load\n",
    "\n",
    "import numpy as np # linear algebra\n",
    "import pandas as pd # data processing, CSV file I/O (e.g. pd.read_csv)\n",
    "\n",
    "# Input data files are available in the read-only \"../input/\" directory\n",
    "# For example, running this (by clicking run or pressing Shift+Enter) will list all files under the input directory\n",
    "\n",
    "import os\n",
    "for dirname, _, filenames in os.walk('/kaggle/input'):\n",
    "    for filename in filenames:\n",
    "        print(os.path.join(dirname, filename))\n",
    "\n",
    "# You can write up to 5GB to the current directory (/kaggle/working/) that gets preserved as output when you create a version using \"Save & Run All\" \n",
    "# You can also write temporary files to /kaggle/temp/, but they won't be saved outside of the current session"
   ]
  },
  {
   "cell_type": "code",
   "execution_count": 2,
   "metadata": {
    "_cell_guid": "79c7e3d0-c299-4dcb-8224-4455121ee9b0",
    "_uuid": "d629ff2d2480ee46fbb7e2d37f6b5fab8052498a",
    "execution": {
     "iopub.execute_input": "2020-09-21T11:50:13.758843Z",
     "iopub.status.busy": "2020-09-21T11:50:13.757953Z",
     "iopub.status.idle": "2020-09-21T11:50:15.049433Z",
     "shell.execute_reply": "2020-09-21T11:50:15.048754Z"
    },
    "papermill": {
     "duration": 1.313302,
     "end_time": "2020-09-21T11:50:15.049583",
     "exception": false,
     "start_time": "2020-09-21T11:50:13.736281",
     "status": "completed"
    },
    "tags": []
   },
   "outputs": [],
   "source": [
    "import numpy as np\n",
    "import pandas as pd\n",
    "import matplotlib.pyplot as plt\n",
    "from catboost import CatBoostRegressor\n",
    "from sklearn.model_selection import train_test_split\n",
    "from sklearn.metrics import mean_squared_error\n",
    "%matplotlib inline"
   ]
  },
  {
   "cell_type": "markdown",
   "metadata": {
    "papermill": {
     "duration": 0.013591,
     "end_time": "2020-09-21T11:50:15.077993",
     "exception": false,
     "start_time": "2020-09-21T11:50:15.064402",
     "status": "completed"
    },
    "tags": []
   },
   "source": []
  },
  {
   "cell_type": "markdown",
   "metadata": {
    "papermill": {
     "duration": 0.013565,
     "end_time": "2020-09-21T11:50:15.105540",
     "exception": false,
     "start_time": "2020-09-21T11:50:15.091975",
     "status": "completed"
    },
    "tags": []
   },
   "source": []
  },
  {
   "cell_type": "code",
   "execution_count": 3,
   "metadata": {
    "execution": {
     "iopub.execute_input": "2020-09-21T11:50:15.142588Z",
     "iopub.status.busy": "2020-09-21T11:50:15.141770Z",
     "iopub.status.idle": "2020-09-21T11:50:15.223891Z",
     "shell.execute_reply": "2020-09-21T11:50:15.223196Z"
    },
    "papermill": {
     "duration": 0.104272,
     "end_time": "2020-09-21T11:50:15.224006",
     "exception": false,
     "start_time": "2020-09-21T11:50:15.119734",
     "status": "completed"
    },
    "tags": []
   },
   "outputs": [
    {
     "data": {
      "text/html": [
       "<div>\n",
       "<style scoped>\n",
       "    .dataframe tbody tr th:only-of-type {\n",
       "        vertical-align: middle;\n",
       "    }\n",
       "\n",
       "    .dataframe tbody tr th {\n",
       "        vertical-align: top;\n",
       "    }\n",
       "\n",
       "    .dataframe thead th {\n",
       "        text-align: right;\n",
       "    }\n",
       "</style>\n",
       "<table border=\"1\" class=\"dataframe\">\n",
       "  <thead>\n",
       "    <tr style=\"text-align: right;\">\n",
       "      <th></th>\n",
       "      <th>Gender</th>\n",
       "      <th>Height</th>\n",
       "      <th>Weight</th>\n",
       "    </tr>\n",
       "  </thead>\n",
       "  <tbody>\n",
       "    <tr>\n",
       "      <th>0</th>\n",
       "      <td>Male</td>\n",
       "      <td>73.847017</td>\n",
       "      <td>241.893563</td>\n",
       "    </tr>\n",
       "    <tr>\n",
       "      <th>1</th>\n",
       "      <td>Male</td>\n",
       "      <td>68.781904</td>\n",
       "      <td>162.310473</td>\n",
       "    </tr>\n",
       "    <tr>\n",
       "      <th>2</th>\n",
       "      <td>Male</td>\n",
       "      <td>74.110105</td>\n",
       "      <td>212.740856</td>\n",
       "    </tr>\n",
       "    <tr>\n",
       "      <th>3</th>\n",
       "      <td>Male</td>\n",
       "      <td>71.730978</td>\n",
       "      <td>220.042470</td>\n",
       "    </tr>\n",
       "    <tr>\n",
       "      <th>4</th>\n",
       "      <td>Male</td>\n",
       "      <td>69.881796</td>\n",
       "      <td>206.349801</td>\n",
       "    </tr>\n",
       "  </tbody>\n",
       "</table>\n",
       "</div>"
      ],
      "text/plain": [
       "  Gender     Height      Weight\n",
       "0   Male  73.847017  241.893563\n",
       "1   Male  68.781904  162.310473\n",
       "2   Male  74.110105  212.740856\n",
       "3   Male  71.730978  220.042470\n",
       "4   Male  69.881796  206.349801"
      ]
     },
     "execution_count": 3,
     "metadata": {},
     "output_type": "execute_result"
    }
   ],
   "source": [
    "data=pd.read_csv(\"/kaggle/input/weight-height/weight-height.csv\")\n",
    "data.head()\n"
   ]
  },
  {
   "cell_type": "code",
   "execution_count": 4,
   "metadata": {
    "execution": {
     "iopub.execute_input": "2020-09-21T11:50:15.264221Z",
     "iopub.status.busy": "2020-09-21T11:50:15.263225Z",
     "iopub.status.idle": "2020-09-21T11:50:17.081670Z",
     "shell.execute_reply": "2020-09-21T11:50:17.082226Z"
    },
    "papermill": {
     "duration": 1.843099,
     "end_time": "2020-09-21T11:50:17.082388",
     "exception": false,
     "start_time": "2020-09-21T11:50:15.239289",
     "status": "completed"
    },
    "tags": []
   },
   "outputs": [
    {
     "name": "stderr",
     "output_type": "stream",
     "text": [
      "/opt/conda/lib/python3.7/site-packages/ipykernel_launcher.py:4: SettingWithCopyWarning: \n",
      "A value is trying to be set on a copy of a slice from a DataFrame\n",
      "\n",
      "See the caveats in the documentation: https://pandas.pydata.org/pandas-docs/stable/user_guide/indexing.html#returning-a-view-versus-a-copy\n",
      "  after removing the cwd from sys.path.\n",
      "/opt/conda/lib/python3.7/site-packages/ipykernel_launcher.py:5: SettingWithCopyWarning: \n",
      "A value is trying to be set on a copy of a slice from a DataFrame\n",
      "\n",
      "See the caveats in the documentation: https://pandas.pydata.org/pandas-docs/stable/user_guide/indexing.html#returning-a-view-versus-a-copy\n",
      "  \"\"\"\n"
     ]
    },
    {
     "data": {
      "text/html": [
       "<div>\n",
       "<style scoped>\n",
       "    .dataframe tbody tr th:only-of-type {\n",
       "        vertical-align: middle;\n",
       "    }\n",
       "\n",
       "    .dataframe tbody tr th {\n",
       "        vertical-align: top;\n",
       "    }\n",
       "\n",
       "    .dataframe thead th {\n",
       "        text-align: right;\n",
       "    }\n",
       "</style>\n",
       "<table border=\"1\" class=\"dataframe\">\n",
       "  <thead>\n",
       "    <tr style=\"text-align: right;\">\n",
       "      <th></th>\n",
       "      <th>Gender</th>\n",
       "      <th>Height</th>\n",
       "      <th>Weight</th>\n",
       "    </tr>\n",
       "  </thead>\n",
       "  <tbody>\n",
       "    <tr>\n",
       "      <th>0</th>\n",
       "      <td>Male</td>\n",
       "      <td>2.422802</td>\n",
       "      <td>109.720985</td>\n",
       "    </tr>\n",
       "    <tr>\n",
       "      <th>1</th>\n",
       "      <td>Male</td>\n",
       "      <td>2.256624</td>\n",
       "      <td>73.622732</td>\n",
       "    </tr>\n",
       "    <tr>\n",
       "      <th>2</th>\n",
       "      <td>Male</td>\n",
       "      <td>2.431434</td>\n",
       "      <td>96.497550</td>\n",
       "    </tr>\n",
       "    <tr>\n",
       "      <th>3</th>\n",
       "      <td>Male</td>\n",
       "      <td>2.353379</td>\n",
       "      <td>99.809504</td>\n",
       "    </tr>\n",
       "    <tr>\n",
       "      <th>4</th>\n",
       "      <td>Male</td>\n",
       "      <td>2.292710</td>\n",
       "      <td>93.598619</td>\n",
       "    </tr>\n",
       "    <tr>\n",
       "      <th>5</th>\n",
       "      <td>Male</td>\n",
       "      <td>2.206464</td>\n",
       "      <td>69.042216</td>\n",
       "    </tr>\n",
       "    <tr>\n",
       "      <th>6</th>\n",
       "      <td>Male</td>\n",
       "      <td>2.256728</td>\n",
       "      <td>83.428219</td>\n",
       "    </tr>\n",
       "    <tr>\n",
       "      <th>7</th>\n",
       "      <td>Male</td>\n",
       "      <td>2.242405</td>\n",
       "      <td>76.190352</td>\n",
       "    </tr>\n",
       "    <tr>\n",
       "      <th>8</th>\n",
       "      <td>Male</td>\n",
       "      <td>2.198785</td>\n",
       "      <td>79.800187</td>\n",
       "    </tr>\n",
       "    <tr>\n",
       "      <th>9</th>\n",
       "      <td>Male</td>\n",
       "      <td>2.081906</td>\n",
       "      <td>70.941642</td>\n",
       "    </tr>\n",
       "  </tbody>\n",
       "</table>\n",
       "</div>"
      ],
      "text/plain": [
       "  Gender    Height      Weight\n",
       "0   Male  2.422802  109.720985\n",
       "1   Male  2.256624   73.622732\n",
       "2   Male  2.431434   96.497550\n",
       "3   Male  2.353379   99.809504\n",
       "4   Male  2.292710   93.598619\n",
       "5   Male  2.206464   69.042216\n",
       "6   Male  2.256728   83.428219\n",
       "7   Male  2.242405   76.190352\n",
       "8   Male  2.198785   79.800187\n",
       "9   Male  2.081906   70.941642"
      ]
     },
     "execution_count": 4,
     "metadata": {},
     "output_type": "execute_result"
    }
   ],
   "source": [
    "for i in range(0,10000):\n",
    "    j=data['Weight'][i]\n",
    "    k=data['Height'][i]\n",
    "    data['Weight'][i]=j*0.453592\n",
    "    data['Height'][i]=k*0.0328084\n",
    "data.head(10)"
   ]
  },
  {
   "cell_type": "code",
   "execution_count": 5,
   "metadata": {
    "execution": {
     "iopub.execute_input": "2020-09-21T11:50:17.125806Z",
     "iopub.status.busy": "2020-09-21T11:50:17.124822Z",
     "iopub.status.idle": "2020-09-21T11:50:17.129583Z",
     "shell.execute_reply": "2020-09-21T11:50:17.128840Z"
    },
    "papermill": {
     "duration": 0.031016,
     "end_time": "2020-09-21T11:50:17.129702",
     "exception": false,
     "start_time": "2020-09-21T11:50:17.098686",
     "status": "completed"
    },
    "tags": []
   },
   "outputs": [
    {
     "data": {
      "text/html": [
       "<div>\n",
       "<style scoped>\n",
       "    .dataframe tbody tr th:only-of-type {\n",
       "        vertical-align: middle;\n",
       "    }\n",
       "\n",
       "    .dataframe tbody tr th {\n",
       "        vertical-align: top;\n",
       "    }\n",
       "\n",
       "    .dataframe thead th {\n",
       "        text-align: right;\n",
       "    }\n",
       "</style>\n",
       "<table border=\"1\" class=\"dataframe\">\n",
       "  <thead>\n",
       "    <tr style=\"text-align: right;\">\n",
       "      <th></th>\n",
       "      <th>Gender</th>\n",
       "      <th>Height</th>\n",
       "      <th>Weight</th>\n",
       "    </tr>\n",
       "  </thead>\n",
       "  <tbody>\n",
       "    <tr>\n",
       "      <th>9995</th>\n",
       "      <td>Female</td>\n",
       "      <td>2.171019</td>\n",
       "      <td>62.041159</td>\n",
       "    </tr>\n",
       "    <tr>\n",
       "      <th>9996</th>\n",
       "      <td>Female</td>\n",
       "      <td>2.200366</td>\n",
       "      <td>77.504315</td>\n",
       "    </tr>\n",
       "    <tr>\n",
       "      <th>9997</th>\n",
       "      <td>Female</td>\n",
       "      <td>2.095407</td>\n",
       "      <td>58.275377</td>\n",
       "    </tr>\n",
       "    <tr>\n",
       "      <th>9998</th>\n",
       "      <td>Female</td>\n",
       "      <td>2.264903</td>\n",
       "      <td>74.322166</td>\n",
       "    </tr>\n",
       "    <tr>\n",
       "      <th>9999</th>\n",
       "      <td>Female</td>\n",
       "      <td>2.032292</td>\n",
       "      <td>51.550324</td>\n",
       "    </tr>\n",
       "  </tbody>\n",
       "</table>\n",
       "</div>"
      ],
      "text/plain": [
       "      Gender    Height     Weight\n",
       "9995  Female  2.171019  62.041159\n",
       "9996  Female  2.200366  77.504315\n",
       "9997  Female  2.095407  58.275377\n",
       "9998  Female  2.264903  74.322166\n",
       "9999  Female  2.032292  51.550324"
      ]
     },
     "execution_count": 5,
     "metadata": {},
     "output_type": "execute_result"
    }
   ],
   "source": [
    "data.tail()"
   ]
  },
  {
   "cell_type": "code",
   "execution_count": 6,
   "metadata": {
    "execution": {
     "iopub.execute_input": "2020-09-21T11:50:17.169969Z",
     "iopub.status.busy": "2020-09-21T11:50:17.169190Z",
     "iopub.status.idle": "2020-09-21T11:50:17.451747Z",
     "shell.execute_reply": "2020-09-21T11:50:17.451165Z"
    },
    "papermill": {
     "duration": 0.305153,
     "end_time": "2020-09-21T11:50:17.451867",
     "exception": false,
     "start_time": "2020-09-21T11:50:17.146714",
     "status": "completed"
    },
    "tags": []
   },
   "outputs": [
    {
     "data": {
      "image/png": "[encoded data removed]",
      "text/plain": [
       "<Figure size 432x288 with 1 Axes>"
      ]
     },
     "metadata": {
      "needs_background": "light"
     },
     "output_type": "display_data"
    }
   ],
   "source": [
    "data.plot(kind='scatter',x='Height',y='Weight')\n",
    "plt.show()"
   ]
  },
  {
   "cell_type": "code",
   "execution_count": 7,
   "metadata": {
    "execution": {
     "iopub.execute_input": "2020-09-21T11:50:17.500107Z",
     "iopub.status.busy": "2020-09-21T11:50:17.497941Z",
     "iopub.status.idle": "2020-09-21T11:50:17.867082Z",
     "shell.execute_reply": "2020-09-21T11:50:17.866440Z"
    },
    "papermill": {
     "duration": 0.397484,
     "end_time": "2020-09-21T11:50:17.867204",
     "exception": false,
     "start_time": "2020-09-21T11:50:17.469720",
     "status": "completed"
    },
    "tags": []
   },
   "outputs": [
    {
     "data": {
      "text/plain": [
       "<matplotlib.axes._subplots.AxesSubplot at 0x7ff28f2ccb10>"
      ]
     },
     "execution_count": 7,
     "metadata": {},
     "output_type": "execute_result"
    },
    {
     "data": {
      "image/png": "[encoded data removed]",
      "text/plain": [
       "<Figure size 432x288 with 1 Axes>"
      ]
     },
     "metadata": {
      "needs_background": "light"
     },
     "output_type": "display_data"
    }
   ],
   "source": [
    "data['gendercolor']=data['Gender'].map({'Male':'blue','Female':'red'})\n",
    "data.plot(kind='scatter',x='Height',y='Weight',c=data['gendercolor'],title='male vs female distribution')"
   ]
  },
  {
   "cell_type": "code",
   "execution_count": 8,
   "metadata": {
    "execution": {
     "iopub.execute_input": "2020-09-21T11:50:17.917599Z",
     "iopub.status.busy": "2020-09-21T11:50:17.916655Z",
     "iopub.status.idle": "2020-09-21T11:50:17.921663Z",
     "shell.execute_reply": "2020-09-21T11:50:17.920998Z"
    },
    "papermill": {
     "duration": 0.034924,
     "end_time": "2020-09-21T11:50:17.921784",
     "exception": false,
     "start_time": "2020-09-21T11:50:17.886860",
     "status": "completed"
    },
    "tags": []
   },
   "outputs": [
    {
     "data": {
      "text/plain": [
       "Gender         0\n",
       "Height         0\n",
       "Weight         0\n",
       "gendercolor    0\n",
       "dtype: int64"
      ]
     },
     "execution_count": 8,
     "metadata": {},
     "output_type": "execute_result"
    }
   ],
   "source": [
    "data.isnull().sum()"
   ]
  },
  {
   "cell_type": "code",
   "execution_count": 9,
   "metadata": {
    "execution": {
     "iopub.execute_input": "2020-09-21T11:50:17.969428Z",
     "iopub.status.busy": "2020-09-21T11:50:17.968663Z",
     "iopub.status.idle": "2020-09-21T11:50:17.982421Z",
     "shell.execute_reply": "2020-09-21T11:50:17.981777Z"
    },
    "papermill": {
     "duration": 0.039025,
     "end_time": "2020-09-21T11:50:17.982549",
     "exception": false,
     "start_time": "2020-09-21T11:50:17.943524",
     "status": "completed"
    },
    "tags": []
   },
   "outputs": [
    {
     "data": {
      "text/plain": [
       "Height    0.049369\n",
       "Weight    0.032955\n",
       "dtype: float64"
      ]
     },
     "execution_count": 9,
     "metadata": {},
     "output_type": "execute_result"
    }
   ],
   "source": [
    "data.skew()"
   ]
  },
  {
   "cell_type": "markdown",
   "metadata": {
    "papermill": {
     "duration": 0.020753,
     "end_time": "2020-09-21T11:50:18.024344",
     "exception": false,
     "start_time": "2020-09-21T11:50:18.003591",
     "status": "completed"
    },
    "tags": []
   },
   "source": [
    "data is fairly symmetrical"
   ]
  },
  {
   "cell_type": "code",
   "execution_count": 10,
   "metadata": {
    "execution": {
     "iopub.execute_input": "2020-09-21T11:50:18.079179Z",
     "iopub.status.busy": "2020-09-21T11:50:18.072277Z",
     "iopub.status.idle": "2020-09-21T11:50:18.083650Z",
     "shell.execute_reply": "2020-09-21T11:50:18.082928Z"
    },
    "papermill": {
     "duration": 0.038137,
     "end_time": "2020-09-21T11:50:18.083783",
     "exception": false,
     "start_time": "2020-09-21T11:50:18.045646",
     "status": "completed"
    },
    "tags": []
   },
   "outputs": [
    {
     "data": {
      "text/html": [
       "<div>\n",
       "<style scoped>\n",
       "    .dataframe tbody tr th:only-of-type {\n",
       "        vertical-align: middle;\n",
       "    }\n",
       "\n",
       "    .dataframe tbody tr th {\n",
       "        vertical-align: top;\n",
       "    }\n",
       "\n",
       "    .dataframe thead th {\n",
       "        text-align: right;\n",
       "    }\n",
       "</style>\n",
       "<table border=\"1\" class=\"dataframe\">\n",
       "  <thead>\n",
       "    <tr style=\"text-align: right;\">\n",
       "      <th></th>\n",
       "      <th>Gender</th>\n",
       "      <th>Height</th>\n",
       "      <th>Weight</th>\n",
       "    </tr>\n",
       "  </thead>\n",
       "  <tbody>\n",
       "    <tr>\n",
       "      <th>0</th>\n",
       "      <td>Male</td>\n",
       "      <td>2.422802</td>\n",
       "      <td>109.720985</td>\n",
       "    </tr>\n",
       "    <tr>\n",
       "      <th>1</th>\n",
       "      <td>Male</td>\n",
       "      <td>2.256624</td>\n",
       "      <td>73.622732</td>\n",
       "    </tr>\n",
       "    <tr>\n",
       "      <th>2</th>\n",
       "      <td>Male</td>\n",
       "      <td>2.431434</td>\n",
       "      <td>96.497550</td>\n",
       "    </tr>\n",
       "    <tr>\n",
       "      <th>3</th>\n",
       "      <td>Male</td>\n",
       "      <td>2.353379</td>\n",
       "      <td>99.809504</td>\n",
       "    </tr>\n",
       "    <tr>\n",
       "      <th>4</th>\n",
       "      <td>Male</td>\n",
       "      <td>2.292710</td>\n",
       "      <td>93.598619</td>\n",
       "    </tr>\n",
       "  </tbody>\n",
       "</table>\n",
       "</div>"
      ],
      "text/plain": [
       "  Gender    Height      Weight\n",
       "0   Male  2.422802  109.720985\n",
       "1   Male  2.256624   73.622732\n",
       "2   Male  2.431434   96.497550\n",
       "3   Male  2.353379   99.809504\n",
       "4   Male  2.292710   93.598619"
      ]
     },
     "execution_count": 10,
     "metadata": {},
     "output_type": "execute_result"
    }
   ],
   "source": [
    "data.drop(['gendercolor'],axis=1,inplace=True)\n",
    "data.head()"
   ]
  },
  {
   "cell_type": "code",
   "execution_count": 11,
   "metadata": {
    "execution": {
     "iopub.execute_input": "2020-09-21T11:50:18.137300Z",
     "iopub.status.busy": "2020-09-21T11:50:18.136532Z",
     "iopub.status.idle": "2020-09-21T11:50:18.139385Z",
     "shell.execute_reply": "2020-09-21T11:50:18.138601Z"
    },
    "papermill": {
     "duration": 0.032413,
     "end_time": "2020-09-21T11:50:18.139516",
     "exception": false,
     "start_time": "2020-09-21T11:50:18.107103",
     "status": "completed"
    },
    "tags": []
   },
   "outputs": [],
   "source": [
    "x=data.drop(['Weight'],axis=1)\n",
    "y=data['Weight']"
   ]
  },
  {
   "cell_type": "code",
   "execution_count": 12,
   "metadata": {
    "execution": {
     "iopub.execute_input": "2020-09-21T11:50:18.190361Z",
     "iopub.status.busy": "2020-09-21T11:50:18.189611Z",
     "iopub.status.idle": "2020-09-21T11:50:18.194155Z",
     "shell.execute_reply": "2020-09-21T11:50:18.194680Z"
    },
    "papermill": {
     "duration": 0.033357,
     "end_time": "2020-09-21T11:50:18.194836",
     "exception": false,
     "start_time": "2020-09-21T11:50:18.161479",
     "status": "completed"
    },
    "tags": []
   },
   "outputs": [],
   "source": [
    "x_train,x_test,y_train,y_test=train_test_split(x,y,test_size=0.2,random_state=10)\n"
   ]
  },
  {
   "cell_type": "code",
   "execution_count": 13,
   "metadata": {
    "execution": {
     "iopub.execute_input": "2020-09-21T11:50:18.266938Z",
     "iopub.status.busy": "2020-09-21T11:50:18.260935Z",
     "iopub.status.idle": "2020-09-21T11:50:20.711893Z",
     "shell.execute_reply": "2020-09-21T11:50:20.711164Z"
    },
    "papermill": {
     "duration": 2.495396,
     "end_time": "2020-09-21T11:50:20.712020",
     "exception": false,
     "start_time": "2020-09-21T11:50:18.216624",
     "status": "completed"
    },
    "tags": []
   },
   "outputs": [
    {
     "name": "stdout",
     "output_type": "stream",
     "text": [
      "4.64711694527379\n",
      "0.9014493272241106\n"
     ]
    }
   ],
   "source": [
    "model=CatBoostRegressor(cat_features=['Gender'],verbose=False)\n",
    "model.fit(x_train,y_train)\n",
    "y_pred=model.predict(x_test)\n",
    "error=np.sqrt(mean_squared_error(y_test,y_pred))\n",
    "print(error)\n",
    "from sklearn.metrics import r2_score\n",
    "r2_er=r2_score(y_test,y_pred)\n",
    "print(r2_er)"
   ]
  },
  {
   "cell_type": "code",
   "execution_count": 14,
   "metadata": {
    "execution": {
     "iopub.execute_input": "2020-09-21T11:50:20.765441Z",
     "iopub.status.busy": "2020-09-21T11:50:20.764376Z",
     "iopub.status.idle": "2020-09-21T11:50:20.769681Z",
     "shell.execute_reply": "2020-09-21T11:50:20.770420Z"
    },
    "papermill": {
     "duration": 0.035865,
     "end_time": "2020-09-21T11:50:20.770620",
     "exception": false,
     "start_time": "2020-09-21T11:50:20.734755",
     "status": "completed"
    },
    "tags": []
   },
   "outputs": [
    {
     "name": "stdout",
     "output_type": "stream",
     "text": [
      "83.14325136708267\n"
     ]
    }
   ],
   "source": [
    "print(model.predict(['Female',5.1]))"
   ]
  }
 ],
 "metadata": {
  "kernelspec": {
   "display_name": "Python 3",
   "language": "python",
   "name": "python3"
  },
  "language_info": {
   "codemirror_mode": {
    "name": "ipython",
    "version": 3
   },
   "file_extension": ".py",
   "mimetype": "text/x-python",
   "name": "python",
   "nbconvert_exporter": "python",
   "pygments_lexer": "ipython3",
   "version": "3.8.3"
  },
  "papermill": {
   "duration": 12.179692,
   "end_time": "2020-09-21T11:50:20.902175",
   "environment_variables": {},
   "exception": null,
   "input_path": "__notebook__.ipynb",
   "output_path": "__notebook__.ipynb",
   "parameters": {},
   "start_time": "2020-09-21T11:50:08.722483",
   "version": "2.1.0"
  }
 },
 "nbformat": 4,
 "nbformat_minor": 4
}
